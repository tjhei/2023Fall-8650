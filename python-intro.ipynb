{
 "cells": [
  {
   "cell_type": "markdown",
   "metadata": {},
   "source": [
    "# Quick Python Introduction"
   ]
  },
  {
   "cell_type": "markdown",
   "metadata": {},
   "source": [
    "This is a basic introduction to Python. See the Python Tutorial pdf for a more thorough introduction. Execute every cell, make sure you understand what is happening, and feel free to make edits. If there is something you don't understand, read up in the .pdf or ask me for help."
   ]
  },
  {
   "cell_type": "markdown",
   "metadata": {},
   "source": [
    "## A first demo\n",
    "\n",
    "Here is a first demo that shows variables, assignment, while loops, if, print, etc.. Note that grouping of statements is done using indentation (use tab)! Execute the cell using ctrl+enter."
   ]
  },
  {
   "cell_type": "code",
   "execution_count": null,
   "metadata": {},
   "outputs": [],
   "source": [
    "i = 30\n",
    "# this is a comment!\n",
    "while i>0:\n",
    "    print (\"i =\", i)\n",
    "    if i==3:\n",
    "        print(\"three is special!\")\n",
    "\n",
    "    if i<10:\n",
    "        k=i**2\n",
    "        print (\"  The square of {} is {}!\".format(i,k))\n",
    "    \n",
    "    i=i-1\n",
    "    \n",
    "for i in range(1,10):\n",
    "    print (\"i =\",i)"
   ]
  },
  {
   "cell_type": "markdown",
   "metadata": {},
   "source": [
    "## Functions\n",
    "defining and documenting functions:"
   ]
  },
  {
   "cell_type": "code",
   "execution_count": null,
   "metadata": {},
   "outputs": [],
   "source": [
    "def some_function(a,b):\n",
    "    \"\"\" This is a documentation string for this function.\n",
    "    this is the second line of the documentation.\n",
    "    \"\"\"\n",
    "    c = a + 2*b\n",
    "    return c\n",
    "\n",
    "# call the function with two arguments and print the return value\n",
    "print(some_function(1,3))\n",
    "\n",
    "# print the help of this function:\n",
    "help(some_function)"
   ]
  },
  {
   "cell_type": "markdown",
   "metadata": {},
   "source": [
    "## Numbers and types\n",
    "\n",
    "integers and floating point numbers are treated differently."
   ]
  },
  {
   "cell_type": "code",
   "execution_count": null,
   "metadata": {},
   "outputs": [],
   "source": [
    "a = 1+1-2*6\n",
    "print (a)"
   ]
  },
  {
   "cell_type": "code",
   "execution_count": null,
   "metadata": {},
   "outputs": [],
   "source": [
    "print (11/5, 11.0/5.0, 11//5, 11.0//4.5, 11 % 5) # bonus points: try this in python 2.x"
   ]
  },
  {
   "cell_type": "code",
   "execution_count": null,
   "metadata": {},
   "outputs": [],
   "source": [
    "# you can inspect the type of a variable of expression:\n",
    "type(1), type(1.0), type(\"hello\"), type([1,2,3])"
   ]
  },
  {
   "cell_type": "markdown",
   "metadata": {},
   "source": [
    "## Lists\n",
    "\n",
    "The basic data structure in Python are Lists (or one-dimensonal arrays). Indexing starts at 0 and each entry can contain any kind of object."
   ]
  },
  {
   "cell_type": "code",
   "execution_count": null,
   "metadata": {},
   "outputs": [],
   "source": [
    "a = [7,8,8,9]\n",
    "print (a)\n",
    "print (len(a))\n",
    "print (a[0])"
   ]
  },
  {
   "cell_type": "code",
   "execution_count": null,
   "metadata": {},
   "outputs": [],
   "source": [
    "a[0] = 6\n",
    "a[-1] = [8, \"hello\"] # what does an index of -1 mean?\n",
    "a.append(2 ** 4)\n",
    "print (a)"
   ]
  },
  {
   "cell_type": "code",
   "execution_count": null,
   "metadata": {},
   "outputs": [],
   "source": [
    "for i in range(5):\n",
    "    print (i,end=\" \")\n",
    "print ()\n",
    "print (list(range(3,13,2)))"
   ]
  },
  {
   "cell_type": "markdown",
   "metadata": {},
   "source": [
    "Indexing, slicing, and concatenation:"
   ]
  },
  {
   "cell_type": "code",
   "execution_count": null,
   "metadata": {},
   "outputs": [],
   "source": [
    "a = [1, 2, \"three\", [4,5]]\n",
    "print (a[3][1])\n",
    "print (a[1:3])\n",
    "print (a[:3])\n",
    "print (a[-2:])\n",
    "print ([1,2,3]+list(range(7,10)))"
   ]
  },
  {
   "cell_type": "markdown",
   "metadata": {},
   "source": [
    "Enumerating lists:"
   ]
  },
  {
   "cell_type": "code",
   "execution_count": null,
   "metadata": {},
   "outputs": [],
   "source": [
    "a = [1.25, \"name\", [1,2,3]]\n",
    "print (a)"
   ]
  },
  {
   "cell_type": "code",
   "execution_count": null,
   "metadata": {},
   "outputs": [],
   "source": [
    "# iterate over index i:\n",
    "for i in range(len(a)):\n",
    "    print (i, \":\", a[i])"
   ]
  },
  {
   "cell_type": "code",
   "execution_count": null,
   "metadata": {},
   "outputs": [],
   "source": [
    "# iterate over items directly\n",
    "for item in a:\n",
    "    print (item)"
   ]
  },
  {
   "cell_type": "code",
   "execution_count": null,
   "metadata": {},
   "outputs": [],
   "source": [
    "# index and value:\n",
    "for i,item in enumerate(a):\n",
    "    print (i, item)"
   ]
  },
  {
   "cell_type": "markdown",
   "metadata": {},
   "source": [
    "List comprehension:"
   ]
  },
  {
   "cell_type": "code",
   "execution_count": null,
   "metadata": {},
   "outputs": [],
   "source": [
    "squares = [ k**2 for k in range(1,6) ]\n",
    "print (squares)"
   ]
  },
  {
   "cell_type": "code",
   "execution_count": null,
   "metadata": {},
   "outputs": [],
   "source": [
    "even_squares = [ k**2 for k in range(10) if k%2==0 ]\n",
    "print (even_squares)"
   ]
  },
  {
   "cell_type": "markdown",
   "metadata": {},
   "source": [
    "Lists are mutable objects and assignments don't make copies:"
   ]
  },
  {
   "cell_type": "code",
   "execution_count": null,
   "metadata": {},
   "outputs": [],
   "source": [
    "a = [1,2,3]\n",
    "b = a\n",
    "print (a, b)\n",
    "a[0]=4\n",
    "print (a, b)\n",
    "\n",
    "x=1\n",
    "y=x\n",
    "print(x,y)\n",
    "x=2\n",
    "print(x,y)"
   ]
  },
  {
   "cell_type": "markdown",
   "metadata": {},
   "source": [
    "## Strings\n",
    "\n",
    "Strings are enclosed in \"\" and can be indexed and concatenated like lists:"
   ]
  },
  {
   "cell_type": "code",
   "execution_count": null,
   "metadata": {},
   "outputs": [],
   "source": [
    "s = \"hello \" + \"my friend!\"\n",
    "print (s)\n",
    "print (len(s))\n",
    "print (s[-4:-1])"
   ]
  },
  {
   "cell_type": "markdown",
   "metadata": {},
   "source": [
    "## Importing libraries, math, dir, help\n",
    "\n"
   ]
  },
  {
   "cell_type": "code",
   "execution_count": null,
   "metadata": {},
   "outputs": [],
   "source": [
    "import math\n",
    "print (math.sin(-math.pi/2.0))"
   ]
  },
  {
   "cell_type": "code",
   "execution_count": null,
   "metadata": {},
   "outputs": [],
   "source": [
    "dir(math)"
   ]
  },
  {
   "cell_type": "code",
   "execution_count": null,
   "metadata": {},
   "outputs": [],
   "source": [
    "help(math.sin)"
   ]
  },
  {
   "cell_type": "code",
   "execution_count": null,
   "metadata": {},
   "outputs": [],
   "source": [
    "from math import cos\n",
    "print (cos(0))"
   ]
  }
 ],
 "metadata": {
  "kernelspec": {
   "display_name": "Python 3 (ipykernel)",
   "language": "python",
   "name": "python3"
  },
  "language_info": {
   "codemirror_mode": {
    "name": "ipython",
    "version": 3
   },
   "file_extension": ".py",
   "mimetype": "text/x-python",
   "name": "python",
   "nbconvert_exporter": "python",
   "pygments_lexer": "ipython3",
   "version": "3.10.6"
  }
 },
 "nbformat": 4,
 "nbformat_minor": 4
}
